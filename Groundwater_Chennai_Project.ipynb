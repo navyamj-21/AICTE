{
 "cells": [
  {
   "cell_type": "code",
   "execution_count": 1,
   "id": "6db88a29-7ce4-4794-88b7-7b79eab0a16b",
   "metadata": {},
   "outputs": [
    {
     "name": "stderr",
     "output_type": "stream",
     "text": [
      "Matplotlib is building the font cache; this may take a moment.\n"
     ]
    },
    {
     "name": "stdout",
     "output_type": "stream",
     "text": [
      "✅ Synthetic Chennai groundwater data created successfully!\n",
      "📁 File saved as 'chennai_groundwater_data.csv'\n",
      "📊 Dataset shape: (132, 7)\n",
      "\n",
      "First 5 rows:\n",
      "        Date  Groundwater_Level_m  Rainfall_mm  Crop_Area_hectares  Year  \\\n",
      "0 2013-01-31                 7.15         24.1             19338.0  2013   \n",
      "1 2013-02-28                 7.59         47.1             19563.0  2013   \n",
      "2 2013-03-31                 8.29         26.2             20432.0  2013   \n",
      "3 2013-04-30                 8.75         63.2             19001.0  2013   \n",
      "4 2013-05-31                 8.09         28.3             18406.0  2013   \n",
      "\n",
      "   Month Season  \n",
      "0      1    Dry  \n",
      "1      2    Dry  \n",
      "2      3    Dry  \n",
      "3      4    Dry  \n",
      "4      5    Dry  \n",
      "\n",
      "Dataset info:\n",
      "<class 'pandas.core.frame.DataFrame'>\n",
      "RangeIndex: 132 entries, 0 to 131\n",
      "Data columns (total 7 columns):\n",
      " #   Column               Non-Null Count  Dtype         \n",
      "---  ------               --------------  -----         \n",
      " 0   Date                 132 non-null    datetime64[ns]\n",
      " 1   Groundwater_Level_m  132 non-null    float64       \n",
      " 2   Rainfall_mm          132 non-null    float64       \n",
      " 3   Crop_Area_hectares   132 non-null    float64       \n",
      " 4   Year                 132 non-null    int32         \n",
      " 5   Month                132 non-null    int32         \n",
      " 6   Season               132 non-null    object        \n",
      "dtypes: datetime64[ns](1), float64(3), int32(2), object(1)\n",
      "memory usage: 6.3+ KB\n",
      "None\n"
     ]
    }
   ],
   "source": [
    "# Synthetic Data Generation for Chennai Groundwater Project\n",
    "# Import necessary libraries\n",
    "import pandas as pd\n",
    "import numpy as np\n",
    "import matplotlib.pyplot as plt\n",
    "\n",
    "# Set random seed for reproducible results\n",
    "np.random.seed(42)\n",
    "\n",
    "# Create date range (2013-2023, monthly data)\n",
    "dates = pd.date_range(start='2013-01-01', end='2023-12-31', freq='M')\n",
    "n_periods = len(dates)\n",
    "\n",
    "# Generate synthetic GROUNDWATER LEVEL (target variable)\n",
    "# Creating a declining trend with seasonal patterns\n",
    "base_level = 7.0  # Starting groundwater level (meters below surface)\n",
    "decline_rate = 0.03  # Long-term decline per month (serious depletion)\n",
    "seasonal_effect = 1.2 * np.sin(2 * np.pi * np.arange(n_periods) / 12)  # Seasonal variation\n",
    "random_noise = np.random.normal(0, 0.3, n_periods)  # Random fluctuations\n",
    "\n",
    "# Combine all components\n",
    "groundwater_level = base_level + (decline_rate * np.arange(n_periods)) + seasonal_effect + random_noise\n",
    "\n",
    "# Generate synthetic RAINFALL data (primary feature)\n",
    "# Chennai has distinct wet and dry seasons\n",
    "monsoon_months = [6, 7, 8, 9, 10, 11]  # June to November\n",
    "rainfall = np.zeros(n_periods)\n",
    "\n",
    "for i, date in enumerate(dates):\n",
    "    if date.month in monsoon_months:\n",
    "        # Higher rainfall during monsoon months\n",
    "        rainfall[i] = np.random.normal(120, 30)\n",
    "    else:\n",
    "        # Lower rainfall during dry months\n",
    "        rainfall[i] = np.random.normal(40, 15)\n",
    "\n",
    "# Ensure no negative rainfall values\n",
    "rainfall = np.clip(rainfall, 0, None)\n",
    "\n",
    "# Generate synthetic CROP AREA data (secondary feature)\n",
    "# Seasonal pattern with some long-term changes\n",
    "base_crop_area = 18000  # Base hectare value\n",
    "crop_seasonality = 2000 * np.sin(2 * np.pi * np.arange(n_periods) / 12 + np.pi/4)\n",
    "crop_trend = 50 * np.sin(2 * np.pi * np.arange(n_periods) / 60)  # Multi-year cycle\n",
    "crop_noise = np.random.normal(0, 300, n_periods)\n",
    "\n",
    "crop_area = base_crop_area + crop_seasonality + crop_trend + crop_noise\n",
    "crop_area = np.clip(crop_area, 15000, 21000)  # Reasonable bounds\n",
    "\n",
    "# Create DataFrame\n",
    "chennai_water_data = pd.DataFrame({\n",
    "    'Date': dates,\n",
    "    'Groundwater_Level_m': np.round(groundwater_level, 2),\n",
    "    'Rainfall_mm': np.round(rainfall, 1),\n",
    "    'Crop_Area_hectares': np.round(crop_area, 0)\n",
    "})\n",
    "\n",
    "# Add derived time-based features\n",
    "chennai_water_data['Year'] = chennai_water_data['Date'].dt.year\n",
    "chennai_water_data['Month'] = chennai_water_data['Date'].dt.month\n",
    "chennai_water_data['Season'] = chennai_water_data['Month'].apply(\n",
    "    lambda x: 'Monsoon' if x in [6,7,8,9,10,11] else 'Dry'\n",
    ")\n",
    "\n",
    "# Save to CSV\n",
    "chennai_water_data.to_csv('chennai_groundwater_data.csv', index=False)\n",
    "\n",
    "print(\"✅ Synthetic Chennai groundwater data created successfully!\")\n",
    "print(f\"📁 File saved as 'chennai_groundwater_data.csv'\")\n",
    "print(f\"📊 Dataset shape: {chennai_water_data.shape}\")\n",
    "print(\"\\nFirst 5 rows:\")\n",
    "print(chennai_water_data.head())\n",
    "print(\"\\nDataset info:\")\n",
    "print(chennai_water_data.info())"
   ]
  },
  {
   "cell_type": "code",
   "execution_count": 1,
   "id": "e22c35d9-f89d-4523-a6ac-a401aaaa0b96",
   "metadata": {},
   "outputs": [
    {
     "name": "stdout",
     "output_type": "stream",
     "text": [
      "/home/9f100862-c38b-491b-89c3-4b7d7870d765\n"
     ]
    }
   ],
   "source": [
    "import os\n",
    "print(os.getcwd())"
   ]
  },
  {
   "cell_type": "code",
   "execution_count": 2,
   "id": "b0614dbd-f2f8-464e-aa49-33a76c0fbce8",
   "metadata": {},
   "outputs": [
    {
     "name": "stdout",
     "output_type": "stream",
     "text": [
      "['.jupyter', '.bashrc', 'chennai_groundwater_data.csv', '.config', 'anaconda_projects', '.npm', '.ipython', 'README.ipynb', '.pythonstartup.py', '.local', '.profile', '.virtualenvs', '.anaconda', '.ipynb_checkpoints', '.gitconfig', '.cache', 'Groundwater_Chennai_Project.ipynb', '.vimrc']\n"
     ]
    }
   ],
   "source": [
    "print(os.listdir())"
   ]
  },
  {
   "cell_type": "code",
   "execution_count": 3,
   "id": "6758f442-3516-4dbd-94ff-44c939ef9031",
   "metadata": {},
   "outputs": [
    {
     "name": "stdout",
     "output_type": "stream",
     "text": [
      "         Date  Groundwater_Level_m  Rainfall_mm  Crop_Area_hectares  Year  \\\n",
      "0  2013-01-31                 7.15         24.1             19338.0  2013   \n",
      "1  2013-02-28                 7.59         47.1             19563.0  2013   \n",
      "2  2013-03-31                 8.29         26.2             20432.0  2013   \n",
      "3  2013-04-30                 8.75         63.2             19001.0  2013   \n",
      "4  2013-05-31                 8.09         28.3             18406.0  2013   \n",
      "\n",
      "   Month Season  \n",
      "0      1    Dry  \n",
      "1      2    Dry  \n",
      "2      3    Dry  \n",
      "3      4    Dry  \n",
      "4      5    Dry  \n",
      "<class 'pandas.core.frame.DataFrame'>\n",
      "RangeIndex: 132 entries, 0 to 131\n",
      "Data columns (total 7 columns):\n",
      " #   Column               Non-Null Count  Dtype  \n",
      "---  ------               --------------  -----  \n",
      " 0   Date                 132 non-null    object \n",
      " 1   Groundwater_Level_m  132 non-null    float64\n",
      " 2   Rainfall_mm          132 non-null    float64\n",
      " 3   Crop_Area_hectares   132 non-null    float64\n",
      " 4   Year                 132 non-null    int64  \n",
      " 5   Month                132 non-null    int64  \n",
      " 6   Season               132 non-null    object \n",
      "dtypes: float64(3), int64(2), object(2)\n",
      "memory usage: 7.3+ KB\n",
      "None\n"
     ]
    }
   ],
   "source": [
    "import pandas as pd\n",
    "\n",
    "df = pd.read_csv('chennai_groundwater_data.csv')\n",
    "print(df.head())\n",
    "print(df.info())\n"
   ]
  },
  {
   "cell_type": "code",
   "execution_count": null,
   "id": "50d7a7f7-620c-4593-8cd2-6f3c0371df48",
   "metadata": {},
   "outputs": [],
   "source": []
  }
 ],
 "metadata": {
  "kernelspec": {
   "display_name": "anaconda-ai-2024.04-py310",
   "language": "python",
   "name": "conda-env-anaconda-ai-2024.04-py310-py"
  },
  "language_info": {
   "codemirror_mode": {
    "name": "ipython",
    "version": 3
   },
   "file_extension": ".py",
   "mimetype": "text/x-python",
   "name": "python",
   "nbconvert_exporter": "python",
   "pygments_lexer": "ipython3",
   "version": "3.10.13"
  }
 },
 "nbformat": 4,
 "nbformat_minor": 5
}
